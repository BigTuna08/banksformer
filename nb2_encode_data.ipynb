{
 "cells": [
  {
   "cell_type": "markdown",
   "metadata": {},
   "source": [
    "# Intro\n",
    "\n",
    "This notebooks takes a pre-processed dataframe, and encodes the data so it can be used to train Banksformer.  \n",
    "\n",
    "\n",
    "The input dataframe requires following columns: \n",
    "- tcode - String, encodes transaction type \n",
    "- amount - float, transcation amount (not log) \n",
    "- account_id - int, associates transactions with account\n",
    "- age - int, clients age\n",
    "- datetime - datetime object, date of transaction\n",
    "- day, month, dow - all ints, encode day, month and day of week\n",
    "- td - int/float, time delta, encodes number of days since the last transaction \n",
    "\n",
    "The encoded data will be tensor of shape (n_samples, max_seq_len, feats_per_step)."
   ]
  },
  {
   "cell_type": "code",
   "execution_count": 1,
   "metadata": {},
   "outputs": [],
   "source": [
    "import numpy as np\n",
    "import pandas as pd\n",
    "from matplotlib import pyplot as plt\n",
    "import os\n",
    "import time\n",
    "\n",
    "import pickle\n",
    "from datetime import date\n",
    "import tensorflow as tf"
   ]
  },
  {
   "cell_type": "markdown",
   "metadata": {},
   "source": [
    "## Setup"
   ]
  },
  {
   "cell_type": "code",
   "execution_count": 2,
   "metadata": {},
   "outputs": [],
   "source": [
    "ds_suffix = \"-czech\"\n",
    "max_seq_len = 80\n",
    "min_seq_len = 20"
   ]
  },
  {
   "cell_type": "markdown",
   "metadata": {},
   "source": [
    "### Load dataframe"
   ]
  },
  {
   "cell_type": "code",
   "execution_count": 3,
   "metadata": {},
   "outputs": [
    {
     "data": {
      "text/html": [
       "<div>\n",
       "<style scoped>\n",
       "    .dataframe tbody tr th:only-of-type {\n",
       "        vertical-align: middle;\n",
       "    }\n",
       "\n",
       "    .dataframe tbody tr th {\n",
       "        vertical-align: top;\n",
       "    }\n",
       "\n",
       "    .dataframe thead th {\n",
       "        text-align: right;\n",
       "    }\n",
       "</style>\n",
       "<table border=\"1\" class=\"dataframe\">\n",
       "  <thead>\n",
       "    <tr style=\"text-align: right;\">\n",
       "      <th></th>\n",
       "      <th>Unnamed: 0</th>\n",
       "      <th>column_a</th>\n",
       "      <th>account_id</th>\n",
       "      <th>date</th>\n",
       "      <th>type</th>\n",
       "      <th>operation</th>\n",
       "      <th>amount</th>\n",
       "      <th>balance</th>\n",
       "      <th>k_symbol</th>\n",
       "      <th>age</th>\n",
       "      <th>tcode</th>\n",
       "      <th>datetime</th>\n",
       "      <th>month</th>\n",
       "      <th>day</th>\n",
       "      <th>dow</th>\n",
       "      <th>year</th>\n",
       "      <th>td</th>\n",
       "    </tr>\n",
       "  </thead>\n",
       "  <tbody>\n",
       "    <tr>\n",
       "      <th>0</th>\n",
       "      <td>0</td>\n",
       "      <td>149432</td>\n",
       "      <td>1</td>\n",
       "      <td>950324</td>\n",
       "      <td>CREDIT</td>\n",
       "      <td>CREDIT IN CASH</td>\n",
       "      <td>1000.0</td>\n",
       "      <td>1000.0</td>\n",
       "      <td>NaN</td>\n",
       "      <td>29</td>\n",
       "      <td>cash_cr</td>\n",
       "      <td>1995-03-24</td>\n",
       "      <td>3</td>\n",
       "      <td>24</td>\n",
       "      <td>4</td>\n",
       "      <td>1995</td>\n",
       "      <td>0.0</td>\n",
       "    </tr>\n",
       "    <tr>\n",
       "      <th>1</th>\n",
       "      <td>1</td>\n",
       "      <td>157404</td>\n",
       "      <td>1</td>\n",
       "      <td>950413</td>\n",
       "      <td>CREDIT</td>\n",
       "      <td>COLLECTION FROM ANOTHER BANK</td>\n",
       "      <td>3679.0</td>\n",
       "      <td>4679.0</td>\n",
       "      <td>NaN</td>\n",
       "      <td>29</td>\n",
       "      <td>bank_cr</td>\n",
       "      <td>1995-04-13</td>\n",
       "      <td>4</td>\n",
       "      <td>13</td>\n",
       "      <td>3</td>\n",
       "      <td>1995</td>\n",
       "      <td>20.0</td>\n",
       "    </tr>\n",
       "    <tr>\n",
       "      <th>2</th>\n",
       "      <td>2</td>\n",
       "      <td>158832</td>\n",
       "      <td>1</td>\n",
       "      <td>950423</td>\n",
       "      <td>CREDIT</td>\n",
       "      <td>CREDIT IN CASH</td>\n",
       "      <td>12600.0</td>\n",
       "      <td>17279.0</td>\n",
       "      <td>NaN</td>\n",
       "      <td>29</td>\n",
       "      <td>cash_cr</td>\n",
       "      <td>1995-04-23</td>\n",
       "      <td>4</td>\n",
       "      <td>23</td>\n",
       "      <td>6</td>\n",
       "      <td>1995</td>\n",
       "      <td>10.0</td>\n",
       "    </tr>\n",
       "    <tr>\n",
       "      <th>3</th>\n",
       "      <td>3</td>\n",
       "      <td>162681</td>\n",
       "      <td>1</td>\n",
       "      <td>950430</td>\n",
       "      <td>CREDIT</td>\n",
       "      <td>NaN</td>\n",
       "      <td>19.2</td>\n",
       "      <td>17298.2</td>\n",
       "      <td>INTEREST CREDITED</td>\n",
       "      <td>29</td>\n",
       "      <td>interest_cr</td>\n",
       "      <td>1995-04-30</td>\n",
       "      <td>4</td>\n",
       "      <td>30</td>\n",
       "      <td>6</td>\n",
       "      <td>1995</td>\n",
       "      <td>7.0</td>\n",
       "    </tr>\n",
       "    <tr>\n",
       "      <th>4</th>\n",
       "      <td>4</td>\n",
       "      <td>167083</td>\n",
       "      <td>1</td>\n",
       "      <td>950513</td>\n",
       "      <td>CREDIT</td>\n",
       "      <td>COLLECTION FROM ANOTHER BANK</td>\n",
       "      <td>3679.0</td>\n",
       "      <td>20977.2</td>\n",
       "      <td>NaN</td>\n",
       "      <td>29</td>\n",
       "      <td>bank_cr</td>\n",
       "      <td>1995-05-13</td>\n",
       "      <td>5</td>\n",
       "      <td>13</td>\n",
       "      <td>5</td>\n",
       "      <td>1995</td>\n",
       "      <td>13.0</td>\n",
       "    </tr>\n",
       "    <tr>\n",
       "      <th>...</th>\n",
       "      <td>...</td>\n",
       "      <td>...</td>\n",
       "      <td>...</td>\n",
       "      <td>...</td>\n",
       "      <td>...</td>\n",
       "      <td>...</td>\n",
       "      <td>...</td>\n",
       "      <td>...</td>\n",
       "      <td>...</td>\n",
       "      <td>...</td>\n",
       "      <td>...</td>\n",
       "      <td>...</td>\n",
       "      <td>...</td>\n",
       "      <td>...</td>\n",
       "      <td>...</td>\n",
       "      <td>...</td>\n",
       "      <td>...</td>\n",
       "    </tr>\n",
       "    <tr>\n",
       "      <th>1056315</th>\n",
       "      <td>1056315</td>\n",
       "      <td>1033141</td>\n",
       "      <td>11382</td>\n",
       "      <td>981202</td>\n",
       "      <td>DEBIT</td>\n",
       "      <td>CASH WITHDRAWAL</td>\n",
       "      <td>25600.0</td>\n",
       "      <td>41114.4</td>\n",
       "      <td>NaN</td>\n",
       "      <td>46</td>\n",
       "      <td>cash_db_nan</td>\n",
       "      <td>1998-12-02</td>\n",
       "      <td>12</td>\n",
       "      <td>2</td>\n",
       "      <td>2</td>\n",
       "      <td>1998</td>\n",
       "      <td>2.0</td>\n",
       "    </tr>\n",
       "    <tr>\n",
       "      <th>1056316</th>\n",
       "      <td>1056316</td>\n",
       "      <td>1040574</td>\n",
       "      <td>11382</td>\n",
       "      <td>981210</td>\n",
       "      <td>CREDIT</td>\n",
       "      <td>COLLECTION FROM ANOTHER BANK</td>\n",
       "      <td>46248.0</td>\n",
       "      <td>87362.4</td>\n",
       "      <td>NaN</td>\n",
       "      <td>46</td>\n",
       "      <td>bank_cr</td>\n",
       "      <td>1998-12-10</td>\n",
       "      <td>12</td>\n",
       "      <td>10</td>\n",
       "      <td>3</td>\n",
       "      <td>1998</td>\n",
       "      <td>8.0</td>\n",
       "    </tr>\n",
       "    <tr>\n",
       "      <th>1056317</th>\n",
       "      <td>1056317</td>\n",
       "      <td>1050362</td>\n",
       "      <td>11382</td>\n",
       "      <td>981225</td>\n",
       "      <td>DEBIT</td>\n",
       "      <td>CASH WITHDRAWAL</td>\n",
       "      <td>6300.0</td>\n",
       "      <td>81062.4</td>\n",
       "      <td>NaN</td>\n",
       "      <td>46</td>\n",
       "      <td>cash_db_nan</td>\n",
       "      <td>1998-12-25</td>\n",
       "      <td>12</td>\n",
       "      <td>25</td>\n",
       "      <td>4</td>\n",
       "      <td>1998</td>\n",
       "      <td>15.0</td>\n",
       "    </tr>\n",
       "    <tr>\n",
       "      <th>1056318</th>\n",
       "      <td>1056318</td>\n",
       "      <td>1053037</td>\n",
       "      <td>11382</td>\n",
       "      <td>981231</td>\n",
       "      <td>CREDIT</td>\n",
       "      <td>NaN</td>\n",
       "      <td>311.3</td>\n",
       "      <td>81373.6</td>\n",
       "      <td>INTEREST CREDITED</td>\n",
       "      <td>46</td>\n",
       "      <td>interest_cr</td>\n",
       "      <td>1998-12-31</td>\n",
       "      <td>12</td>\n",
       "      <td>31</td>\n",
       "      <td>3</td>\n",
       "      <td>1998</td>\n",
       "      <td>6.0</td>\n",
       "    </tr>\n",
       "    <tr>\n",
       "      <th>1056319</th>\n",
       "      <td>1056319</td>\n",
       "      <td>1056162</td>\n",
       "      <td>11382</td>\n",
       "      <td>981231</td>\n",
       "      <td>CREDIT</td>\n",
       "      <td>NaN</td>\n",
       "      <td>301.1</td>\n",
       "      <td>81674.7</td>\n",
       "      <td>INTEREST CREDITED</td>\n",
       "      <td>46</td>\n",
       "      <td>interest_cr</td>\n",
       "      <td>1998-12-31</td>\n",
       "      <td>12</td>\n",
       "      <td>31</td>\n",
       "      <td>3</td>\n",
       "      <td>1998</td>\n",
       "      <td>0.0</td>\n",
       "    </tr>\n",
       "  </tbody>\n",
       "</table>\n",
       "<p>1056320 rows × 17 columns</p>\n",
       "</div>"
      ],
      "text/plain": [
       "         Unnamed: 0  column_a  account_id    date    type  \\\n",
       "0                 0    149432           1  950324  CREDIT   \n",
       "1                 1    157404           1  950413  CREDIT   \n",
       "2                 2    158832           1  950423  CREDIT   \n",
       "3                 3    162681           1  950430  CREDIT   \n",
       "4                 4    167083           1  950513  CREDIT   \n",
       "...             ...       ...         ...     ...     ...   \n",
       "1056315     1056315   1033141       11382  981202   DEBIT   \n",
       "1056316     1056316   1040574       11382  981210  CREDIT   \n",
       "1056317     1056317   1050362       11382  981225   DEBIT   \n",
       "1056318     1056318   1053037       11382  981231  CREDIT   \n",
       "1056319     1056319   1056162       11382  981231  CREDIT   \n",
       "\n",
       "                            operation   amount  balance           k_symbol  \\\n",
       "0                      CREDIT IN CASH   1000.0   1000.0                NaN   \n",
       "1        COLLECTION FROM ANOTHER BANK   3679.0   4679.0                NaN   \n",
       "2                      CREDIT IN CASH  12600.0  17279.0                NaN   \n",
       "3                                 NaN     19.2  17298.2  INTEREST CREDITED   \n",
       "4        COLLECTION FROM ANOTHER BANK   3679.0  20977.2                NaN   \n",
       "...                               ...      ...      ...                ...   \n",
       "1056315               CASH WITHDRAWAL  25600.0  41114.4                NaN   \n",
       "1056316  COLLECTION FROM ANOTHER BANK  46248.0  87362.4                NaN   \n",
       "1056317               CASH WITHDRAWAL   6300.0  81062.4                NaN   \n",
       "1056318                           NaN    311.3  81373.6  INTEREST CREDITED   \n",
       "1056319                           NaN    301.1  81674.7  INTEREST CREDITED   \n",
       "\n",
       "         age        tcode    datetime  month  day  dow  year    td  \n",
       "0         29      cash_cr  1995-03-24      3   24    4  1995   0.0  \n",
       "1         29      bank_cr  1995-04-13      4   13    3  1995  20.0  \n",
       "2         29      cash_cr  1995-04-23      4   23    6  1995  10.0  \n",
       "3         29  interest_cr  1995-04-30      4   30    6  1995   7.0  \n",
       "4         29      bank_cr  1995-05-13      5   13    5  1995  13.0  \n",
       "...      ...          ...         ...    ...  ...  ...   ...   ...  \n",
       "1056315   46  cash_db_nan  1998-12-02     12    2    2  1998   2.0  \n",
       "1056316   46      bank_cr  1998-12-10     12   10    3  1998   8.0  \n",
       "1056317   46  cash_db_nan  1998-12-25     12   25    4  1998  15.0  \n",
       "1056318   46  interest_cr  1998-12-31     12   31    3  1998   6.0  \n",
       "1056319   46  interest_cr  1998-12-31     12   31    3  1998   0.0  \n",
       "\n",
       "[1056320 rows x 17 columns]"
      ]
     },
     "execution_count": 3,
     "metadata": {},
     "output_type": "execute_result"
    }
   ],
   "source": [
    "df = pd.read_csv(f\"stored_data/final_df-{ds_suffix}.csv\")\n",
    "df"
   ]
  },
  {
   "cell_type": "markdown",
   "metadata": {},
   "source": [
    "## Ensure correct folders exist"
   ]
  },
  {
   "cell_type": "code",
   "execution_count": 6,
   "metadata": {},
   "outputs": [],
   "source": [
    "folders = ['generated_data',\n",
    " 'stored_data',\n",
    " 'checkpoints',\n",
    " 'generation_results',\n",
    " 'data',\n",
    " 'my_lib']\n",
    "\n",
    "\n",
    "for f in folders:\n",
    "    if not os.path.exists(f):\n",
    "        os.mkdir(f)"
   ]
  },
  {
   "cell_type": "markdown",
   "metadata": {},
   "source": [
    "## Encode"
   ]
  },
  {
   "cell_type": "code",
   "execution_count": 7,
   "metadata": {},
   "outputs": [
    {
     "name": "stdout",
     "output_type": "stream",
     "text": [
      "Wrote encoding info to stored_data/DataEncoder--czech.pickle\n"
     ]
    },
    {
     "name": "stderr",
     "output_type": "stream",
     "text": [
      "/Users/kylenickerson/Desktop/verafin_proj_2/czech-banking-data/lpetrocelli-some-translatedreformatted-czech-banking-data/fresh_pull/banksformer-forvf copy/my_lib/encoding.py:19: SettingWithCopyWarning: \n",
      "A value is trying to be set on a copy of a slice from a DataFrame.\n",
      "Try using .loc[row_indexer,col_indexer] = value instead\n",
      "\n",
      "See the caveats in the documentation: https://pandas.pydata.org/pandas-docs/stable/user_guide/indexing.html#returning-a-view-versus-a-copy\n",
      "  df[\"tcode_num\"] = df[\"tcode\"].apply(lambda x: self.TCODE_TO_NUM[x])\n",
      "/Users/kylenickerson/Desktop/verafin_proj_2/czech-banking-data/lpetrocelli-some-translatedreformatted-czech-banking-data/fresh_pull/banksformer-forvf copy/my_lib/encoding.py:22: SettingWithCopyWarning: \n",
      "A value is trying to be set on a copy of a slice from a DataFrame.\n",
      "Try using .loc[row_indexer,col_indexer] = value instead\n",
      "\n",
      "See the caveats in the documentation: https://pandas.pydata.org/pandas-docs/stable/user_guide/indexing.html#returning-a-view-versus-a-copy\n",
      "  df[\"log_amount\"] = np.log10(df[\"amount\"]+1)\n",
      "/Users/kylenickerson/Desktop/verafin_proj_2/czech-banking-data/lpetrocelli-some-translatedreformatted-czech-banking-data/fresh_pull/banksformer-forvf copy/my_lib/encoding.py:24: SettingWithCopyWarning: \n",
      "A value is trying to be set on a copy of a slice from a DataFrame.\n",
      "Try using .loc[row_indexer,col_indexer] = value instead\n",
      "\n",
      "See the caveats in the documentation: https://pandas.pydata.org/pandas-docs/stable/user_guide/indexing.html#returning-a-view-versus-a-copy\n",
      "  df[\"log_amount_sc\"] = df[\"log_amount\"] / self.LOG_AMOUNT_SCALE\n",
      "/Users/kylenickerson/Desktop/verafin_proj_2/czech-banking-data/lpetrocelli-some-translatedreformatted-czech-banking-data/fresh_pull/banksformer-forvf copy/my_lib/encoding.py:27: SettingWithCopyWarning: \n",
      "A value is trying to be set on a copy of a slice from a DataFrame.\n",
      "Try using .loc[row_indexer,col_indexer] = value instead\n",
      "\n",
      "See the caveats in the documentation: https://pandas.pydata.org/pandas-docs/stable/user_guide/indexing.html#returning-a-view-versus-a-copy\n",
      "  df[\"td_sc\"] = df[\"td\"] / self.TD_SCALE\n",
      "/Users/kylenickerson/Desktop/verafin_proj_2/czech-banking-data/lpetrocelli-some-translatedreformatted-czech-banking-data/fresh_pull/banksformer-forvf copy/my_lib/encoding.py:30: SettingWithCopyWarning: \n",
      "A value is trying to be set on a copy of a slice from a DataFrame.\n",
      "Try using .loc[row_indexer,col_indexer] = value instead\n",
      "\n",
      "See the caveats in the documentation: https://pandas.pydata.org/pandas-docs/stable/user_guide/indexing.html#returning-a-view-versus-a-copy\n",
      "  df[\"age_sc\"] = df[\"age\"] / self.ATTR_SCALE\n"
     ]
    },
    {
     "data": {
      "text/plain": [
       "<my_lib.encoding.DataEncoder at 0x7ff81ad05ca0>"
      ]
     },
     "execution_count": 7,
     "metadata": {},
     "output_type": "execute_result"
    }
   ],
   "source": [
    "from my_lib.encoding import preprocess_df, bulk_encode_time_value\n",
    "\n",
    "preprocess_df(df, ds_suffix)"
   ]
  },
  {
   "cell_type": "code",
   "execution_count": 8,
   "metadata": {},
   "outputs": [
    {
     "name": "stdout",
     "output_type": "stream",
     "text": [
      "DATA_KEY_ORDER is ['td_sc', 'month', 'day', 'dow', 'tcode_num', 'log_amount_sc']\n",
      "If this is not correct, edit my_lib/field_config.py and re-run notebook\n"
     ]
    }
   ],
   "source": [
    "from my_lib.field_config import *\n",
    "\n",
    "\n",
    "\n",
    "def count_seqs_in_df(df):\n",
    "    gb_aid = df.groupby(\"account_id\")[\"account_id\"]\n",
    "\n",
    "    full_seqs_per_acct = gb_aid.count() // max_seq_len\n",
    "\n",
    "    n_full_seqs = sum(full_seqs_per_acct)\n",
    "    n_part_seqs = sum(gb_aid.count() - full_seqs_per_acct*max_seq_len >= min_seq_len)\n",
    "    \n",
    "    return n_full_seqs + n_part_seqs\n",
    "\n",
    "\n",
    "\n",
    "\n",
    "\n",
    "\n",
    "def seq_to_inp_tensor(seq, inp_tensor, seq_i, seq_len):\n",
    "\n",
    "    for k in DATA_KEY_ORDER:\n",
    "\n",
    "        depth = FIELD_DIMS[k]\n",
    "        \n",
    "        if k in ONE_HOT_DIMS:    \n",
    "            x = tf.one_hot(seq[k], depth).numpy()\n",
    "\n",
    "        elif k in CLOCK_FIELDS:\n",
    "            max_val = CLOCK_FIELDS[k]\n",
    "            x = bulk_encode_time_value(seq[k], max_val)\n",
    "        else:\n",
    "            x = np.expand_dims(seq[k], 1)\n",
    "            \n",
    "        st = FIELD_STARTS[k]\n",
    "        inp_tensor[seq_i,:seq_len, st:st+depth] = x\n",
    "\n",
    "\n",
    "\n",
    "\n",
    "def seq_to_targ_tensor(seq, tar_tensor, seq_i, seq_len):\n",
    "\n",
    "    for k in DATA_KEY_ORDER:\n",
    "        \n",
    "        depth = FIELD_DIMS_TAR[k]\n",
    "        \n",
    "        if k in CLOCK_FIELDS:\n",
    "            max_val = CLOCK_FIELDS[k]\n",
    "            x = np.expand_dims(seq[k]%max_val, 1)\n",
    "        else:\n",
    "            x = np.expand_dims(seq[k], 1)\n",
    "            \n",
    "        st = FIELD_STARTS_TAR[k]\n",
    "        tar_tensor[seq_i,:seq_len, st:st+depth] = x\n",
    "\n",
    "        \n",
    "ONE_HOT_DIMS, FIELD_DIMS, FIELD_STARTS, FIELD_DIMS_TAR, FIELD_STARTS_TAR = get_field_info(ds_suffix)"
   ]
  },
  {
   "cell_type": "code",
   "execution_count": 10,
   "metadata": {},
   "outputs": [
    {
     "data": {
      "text/plain": [
       "((14354, 80, 24), (14354, 80, 6))"
      ]
     },
     "execution_count": 10,
     "metadata": {},
     "output_type": "execute_result"
    }
   ],
   "source": [
    "n_seqs = count_seqs_in_df(df)\n",
    "n_steps = max_seq_len\n",
    "n_feat_inp = sum(FIELD_DIMS.values())\n",
    "n_feat_tar = sum(FIELD_DIMS_TAR.values())\n",
    "\n",
    "inp_tensor = np.zeros((n_seqs, n_steps, n_feat_inp))\n",
    "tar_tensor = np.zeros((n_seqs, n_steps, n_feat_tar))\n",
    "\n",
    "inp_tensor.shape, tar_tensor.shape"
   ]
  },
  {
   "cell_type": "code",
   "execution_count": 11,
   "metadata": {},
   "outputs": [
    {
     "name": "stdout",
     "output_type": "stream",
     "text": [
      "Finished encoding 2000 of 14354 seqs\n",
      "Finished encoding 4000 of 14354 seqs\n",
      "Finished encoding 6000 of 14354 seqs\n",
      "Finished encoding 8000 of 14354 seqs\n",
      "Finished encoding 10000 of 14354 seqs\n",
      "Finished encoding 12000 of 14354 seqs\n",
      "Finished encoding 14000 of 14354 seqs\n",
      "Took 42.11 secs\n"
     ]
    }
   ],
   "source": [
    "seq_i = 0\n",
    "rows_per_acct = {}\n",
    "alert_every = 2000\n",
    "attribute = \"age_sc\"\n",
    "\n",
    "\n",
    "attributes = np.zeros(n_seqs)\n",
    "start_time = time.time()\n",
    "for acct_id, group in df.groupby(\"account_id\"):\n",
    "    rows_per_acct[acct_id] = []\n",
    "    \n",
    "    for i in range(len(group) // max_seq_len + 1):\n",
    "\n",
    "        n_trs = len(group)\n",
    "        start = i*max_seq_len\n",
    "        seq_len = min(max_seq_len, n_trs - start)   \n",
    "\n",
    "        if seq_len >= min_seq_len:\n",
    "            seq_to_inp_tensor(group.iloc[start:start+seq_len], inp_tensor, seq_i, seq_len)\n",
    "            seq_to_targ_tensor(group.iloc[start:start+seq_len],tar_tensor, seq_i, seq_len)\n",
    "#             tar_tensor[seq_i,:seq_len,:] = seq_to_targ_tensor(group.iloc[start:start+seq_len])\n",
    "            attributes[seq_i] = group[\"age\"].iloc[0]\n",
    "\n",
    "            rows_per_acct[acct_id].append(seq_i)\n",
    "            seq_i += 1\n",
    "            \n",
    "            if seq_i % alert_every == 0:\n",
    "                print(f\"Finished encoding {seq_i} of {n_seqs} seqs\")\n",
    "                \n",
    " \n",
    "# Add conditioning info (attribute) to first timestep of inp\n",
    "inp_tensor = np.concatenate([np.repeat(attributes[:, None, None], n_feat_inp, axis=2), \n",
    "                             inp_tensor], \n",
    "                             axis=1)\n",
    "print(f\"Took {time.time() - start_time:.2f} secs\")"
   ]
  },
  {
   "cell_type": "code",
   "execution_count": 12,
   "metadata": {},
   "outputs": [
    {
     "data": {
      "text/plain": [
       "((14354, 81, 24), (14354, 80, 6), (14354,))"
      ]
     },
     "execution_count": 12,
     "metadata": {},
     "output_type": "execute_result"
    }
   ],
   "source": [
    "inp_tensor.shape, tar_tensor.shape, attributes.shape"
   ]
  },
  {
   "cell_type": "markdown",
   "metadata": {},
   "source": [
    "## Save"
   ]
  },
  {
   "cell_type": "code",
   "execution_count": 13,
   "metadata": {},
   "outputs": [],
   "source": [
    "np.save(f\"stored_data/inp_tensor-{ds_suffix}\", inp_tensor)\n",
    "np.save(f\"stored_data/tar_tensor-{ds_suffix}\", tar_tensor)\n",
    "np.save(f\"stored_data/attributes-{ds_suffix}\", attributes)"
   ]
  },
  {
   "cell_type": "code",
   "execution_count": 14,
   "metadata": {},
   "outputs": [],
   "source": [
    "with open(f\"stored_data/rows_per_acct-{ds_suffix}.pickle\", \"wb\") as f:\n",
    "    pickle.dump(rows_per_acct, f) "
   ]
  },
  {
   "cell_type": "code",
   "execution_count": 15,
   "metadata": {},
   "outputs": [
    {
     "data": {
      "text/plain": [
       "'-czech'"
      ]
     },
     "execution_count": 15,
     "metadata": {},
     "output_type": "execute_result"
    }
   ],
   "source": [
    "ds_suffix"
   ]
  },
  {
   "cell_type": "code",
   "execution_count": null,
   "metadata": {},
   "outputs": [],
   "source": []
  }
 ],
 "metadata": {
  "kernelspec": {
   "display_name": "Python 3",
   "language": "python",
   "name": "python3"
  },
  "language_info": {
   "codemirror_mode": {
    "name": "ipython",
    "version": 3
   },
   "file_extension": ".py",
   "mimetype": "text/x-python",
   "name": "python",
   "nbconvert_exporter": "python",
   "pygments_lexer": "ipython3",
   "version": "3.8.8"
  }
 },
 "nbformat": 4,
 "nbformat_minor": 4
}
